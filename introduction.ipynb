{
 "metadata": {
  "name": "",
  "signature": "sha256:810fa5f09f1b0d50102f0c10e4b3d644a5a83a00bffb489f5fed6326973103cc"
 },
 "nbformat": 3,
 "nbformat_minor": 0,
 "worksheets": [
  {
   "cells": [
    {
     "cell_type": "markdown",
     "metadata": {},
     "source": [
      "Installation for windows\n",
      "========================\n",
      "- Get Python 2.7.6\n",
      "- Fix [mimetype.py](http://bugs.python.org/review/9291/diff/1663/Lib/mimetypes.py)\n",
      "- Get [pip](http://pip.readthedocs.org/en/latest/installing.html)\n",
      "    * \u4e0b\u8f09 get-pip.py (\u53f3\u9375\u53e6\u5b58\u65b0\u6a94)\n",
      "    * \u900f\u904e\u547d\u4ee4\u5217\u57f7\u884c python get-pip.py\n",
      "- Use pip to install pyzmq, jinja2, tornado.\n",
      "    * pip install \u5957\u4ef6\u540d\u7a31\n",
      "- Get: [git](http://msysgit.github.io/) \n",
      "- Get: ipython\n",
      "    * Open CMD.exe\n",
      "    * Go to some directory. \n",
      "    * git clone https://github.com/ipython/ipython.git\n",
      "    * cd ipython\n",
      "    * python setup.py install\n"
     ]
    },
    {
     "cell_type": "markdown",
     "metadata": {},
     "source": [
      "##Basical Command\n",
      "- git clone \"reponsitory website\"\n",
      "- git status\n",
      "- git add -i\n",
      "- git commit -m \"project\"\n",
      "- git push -u origin master\n",
      "- git config --global user.email \"you@example.com\" (\u8a2d\u5b9aemail)\n",
      "- git config --global user.name \"Your Name\" (\u8a2d\u5b9auser name)"
     ]
    },
    {
     "cell_type": "markdown",
     "metadata": {},
     "source": [
      "# Markdown \u8a9e\u6cd5\n",
      "\n",
      "\u8acb\u5230\u9019\u500b\u7db2\u7ad9: [Markdown](http://markdown.tw/) \u67e5\u4e00\u4e0b\uff0c\u628a\u4e00\u4e9b\u5e38\u7528\u7684\u52a0\u9032\u4f86\u3002"
     ]
    },
    {
     "cell_type": "markdown",
     "metadata": {},
     "source": [
      "\u628a ipython notebook \u505c\u4e0b\u4f86\u7684\u65b9\u6cd5 'ctrl + break'"
     ]
    },
    {
     "cell_type": "markdown",
     "metadata": {},
     "source": [
      "# \u5b89\u88dd\u5269\u4e0b\u7684\u5957\u4ef6\n",
      "\u5148\u5b89\u88dd vs2008 express: http://download.microsoft.com/download/E/8/E/E8EEB394-7F42-4963-A2D8-29559B738298/VS2008ExpressWithSP1ENUX1504728.iso"
     ]
    },
    {
     "cell_type": "code",
     "collapsed": false,
     "input": [],
     "language": "python",
     "metadata": {},
     "outputs": []
    }
   ],
   "metadata": {}
  }
 ]
}