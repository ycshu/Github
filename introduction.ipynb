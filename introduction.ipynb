{
 "metadata": {
  "name": "",
  "signature": "sha256:ddeac9a2716dcafa9eb7c9469e84bbceffcde823bfd1095feb8ea30c1ce24752"
 },
 "nbformat": 3,
 "nbformat_minor": 0,
 "worksheets": [
  {
   "cells": [
    {
     "cell_type": "markdown",
     "metadata": {},
     "source": [
      "Installation\n",
      "============\n",
      "- Get: python 2.7\n",
      "- Get: ipython notebook\n",
      "For windows, get [anaconda](http://continuum.io/downloads)\n"
     ]
    },
    {
     "cell_type": "code",
     "collapsed": false,
     "input": [],
     "language": "python",
     "metadata": {},
     "outputs": []
    }
   ],
   "metadata": {}
  }
 ]
}