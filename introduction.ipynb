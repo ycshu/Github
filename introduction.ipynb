{
 "metadata": {
  "name": "",
  "signature": "sha256:dbb7d257f1c977826e2c6fb8cdafa94ca84542c5c88eeb9aa702d79414bf2c4a"
 },
 "nbformat": 3,
 "nbformat_minor": 0,
 "worksheets": [
  {
   "cells": [
    {
     "cell_type": "markdown",
     "metadata": {},
     "source": [
      "Installation for windows\n",
      "========================\n",
      "- Get: Python 3.4 ( 2.7.6 has some encoding problem in windows! ) Rememeber to choose the Add to PATH option!\n",
      "- Get: [git](http://msysgit.github.io/) (\u597d\u50cf\u5728 3.4 \u4e2d\u4e0d\u9700\u8981\u505a\u9019\u4ef6\u4e8b\u3002\u6211\u88dd\u5b8c 3.4 \u4e4b\u5f8c\u5c31\u6709\u4e86)\n",
      "    * \u4e0b\u8f09 get-pip.py (\u53f3\u9375\u53e6\u5b58\u65b0\u6a94)\n",
      "    * \u900f\u904e\u547d\u4ee4\u5217\u57f7\u884c python get-pip.py\n",
      "- Get: ipython notebook. \n",
      "    * Open CMD.exe\n",
      "    * Go to some directory. \n",
      "    * git clone https://github.com/ipython/ipython.git\n",
      "    * cd ipython\n",
      "    * python setup.py install\n",
      "- Get: [pip](http://pip.readthedocs.org/en/latest/installing.html)\n",
      "- Use pip to install pyzmq, jinja2, tornado.\n"
     ]
    },
    {
     "cell_type": "markdown",
     "metadata": {},
     "source": [
      "##Basical Command\n",
      "- git clone \"reponsitory website\"\n",
      "- git status\n",
      "- git add -i\n",
      "- git commit -m \"project\"\n",
      "- git push -u origin master"
     ]
    },
    {
     "cell_type": "markdown",
     "metadata": {},
     "source": [
      "# Markdown \u8a9e\u6cd5\n",
      "\n",
      "\u8acb\u5230\u9019\u500b\u7db2\u7ad9: [Markdown](http://markdown.tw/) \u67e5\u4e00\u4e0b\uff0c\u628a\u4e00\u4e9b\u5e38\u7528\u7684\u52a0\u9032\u4f86\u3002"
     ]
    }
   ],
   "metadata": {}
  }
 ]
}